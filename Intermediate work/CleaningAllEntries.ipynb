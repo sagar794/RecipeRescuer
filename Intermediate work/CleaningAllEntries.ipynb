{
 "cells": [
  {
   "cell_type": "markdown",
   "metadata": {},
   "source": [
    "# Sagar's attempt at cleaning all entries"
   ]
  },
  {
   "cell_type": "code",
   "execution_count": 1,
   "metadata": {
    "collapsed": false
   },
   "outputs": [
    {
     "data": {
      "text/html": [
       "<div>\n",
       "<table border=\"1\" class=\"dataframe\">\n",
       "  <thead>\n",
       "    <tr style=\"text-align: right;\">\n",
       "      <th></th>\n",
       "      <th>ingredients</th>\n",
       "      <th>name</th>\n",
       "      <th>after</th>\n",
       "    </tr>\n",
       "  </thead>\n",
       "  <tbody>\n",
       "    <tr>\n",
       "      <th>0</th>\n",
       "      <td>Biscuits\\n3 cups All-purpose Flour\\n2 Tablespo...</td>\n",
       "      <td>Drop Biscuits and Sausage Gravy</td>\n",
       "      <td>NaN</td>\n",
       "    </tr>\n",
       "    <tr>\n",
       "      <th>1</th>\n",
       "      <td>12 whole Dinner Rolls Or Small Sandwich Buns (...</td>\n",
       "      <td>Hot Roast Beef Sandwiches</td>\n",
       "      <td>NaN</td>\n",
       "    </tr>\n",
       "    <tr>\n",
       "      <th>2</th>\n",
       "      <td>Dressing:\\n1 tablespoon cumin seeds\\n1/3 cup /...</td>\n",
       "      <td>Morrocan Carrot and Chickpea Salad</td>\n",
       "      <td>NaN</td>\n",
       "    </tr>\n",
       "    <tr>\n",
       "      <th>3</th>\n",
       "      <td>Biscuits\\n3 cups All-purpose Flour\\n2 Tablespo...</td>\n",
       "      <td>Mixed Berry Shortcake</td>\n",
       "      <td>NaN</td>\n",
       "    </tr>\n",
       "    <tr>\n",
       "      <th>4</th>\n",
       "      <td>For each bowl: \\na big dollop of Greek yogurt\\...</td>\n",
       "      <td>Pomegranate Yogurt Bowl</td>\n",
       "      <td>NaN</td>\n",
       "    </tr>\n",
       "  </tbody>\n",
       "</table>\n",
       "</div>"
      ],
      "text/plain": [
       "                                         ingredients  \\\n",
       "0  Biscuits\\n3 cups All-purpose Flour\\n2 Tablespo...   \n",
       "1  12 whole Dinner Rolls Or Small Sandwich Buns (...   \n",
       "2  Dressing:\\n1 tablespoon cumin seeds\\n1/3 cup /...   \n",
       "3  Biscuits\\n3 cups All-purpose Flour\\n2 Tablespo...   \n",
       "4  For each bowl: \\na big dollop of Greek yogurt\\...   \n",
       "\n",
       "                                 name  after  \n",
       "0     Drop Biscuits and Sausage Gravy    NaN  \n",
       "1           Hot Roast Beef Sandwiches    NaN  \n",
       "2  Morrocan Carrot and Chickpea Salad    NaN  \n",
       "3               Mixed Berry Shortcake    NaN  \n",
       "4             Pomegranate Yogurt Bowl    NaN  "
      ]
     },
     "execution_count": 1,
     "metadata": {},
     "output_type": "execute_result"
    }
   ],
   "source": [
    "import pandas as pd\n",
    "import numpy as np\n",
    "\n",
    "filepath = \"./recipeitems-latest.json\"\n",
    "\n",
    "with open(filepath, 'rb') as f:\n",
    "    data = f.readlines()\n",
    "    \n",
    "#remove trailing \"\\n\" from lines\n",
    "data = map(lambda x :x.rstrip(), data)\n",
    "#put in good format:\n",
    "data_json_str = '[' +','.join(data)+ ']'\n",
    "\n",
    "#load into pandas\n",
    "recipe_df = pd.read_json(data_json_str)\n",
    "\n",
    "#get rid of extra columns\n",
    "cleaned_recipes = recipe_df[['ingredients', 'name']].copy()\n",
    "cleaned_recipes['after'] = np.nan\n",
    "cleaned_recipes.head()"
   ]
  },
  {
   "cell_type": "code",
   "execution_count": 2,
   "metadata": {
    "collapsed": false
   },
   "outputs": [
    {
     "data": {
      "text/plain": [
       "(173278, 3)"
      ]
     },
     "execution_count": 2,
     "metadata": {},
     "output_type": "execute_result"
    }
   ],
   "source": [
    "#get number of recipes\n",
    "cleaned_recipes.shape"
   ]
  },
  {
   "cell_type": "code",
   "execution_count": 3,
   "metadata": {
    "collapsed": false
   },
   "outputs": [],
   "source": [
    "#get food table\n",
    "foods_df = pd.read_excel('./cofids.xls')\n",
    "foods_df = foods_df.ix[2:]\n",
    "#foods_df.head()\n",
    "\n",
    "#get food names from food table\n",
    "food_names = foods_df['Food Name']\n",
    "#food_names.head()\n",
    "\n",
    "#get food item from food names\n",
    "##should be noted that the food_items list is not completely clean\n",
    "food_items = []\n",
    "for row in food_names:\n",
    "    words = row.split(',')\n",
    "    if words[0].lower() not in food_items:\n",
    "        food_items.append(words[0].lower())\n",
    "\n",
    "#add more food items using ingredients.csv\n",
    "ingredients_df = pd.read_csv('./ingredients.csv')\n",
    "ingredients = ingredients_df[ingredients_df.columns[0]]\n",
    "\n",
    "more_food = []\n",
    "for food in ingredients:\n",
    "    more_food.append(food.lower().decode('utf-8'))\n",
    "\n",
    "for food in more_food:\n",
    "     if food not in food_items:\n",
    "        food_items.append(food)"
   ]
  },
  {
   "cell_type": "code",
   "execution_count": 4,
   "metadata": {
    "collapsed": false
   },
   "outputs": [
    {
     "data": {
      "text/plain": [
       "1589"
      ]
     },
     "execution_count": 4,
     "metadata": {},
     "output_type": "execute_result"
    }
   ],
   "source": [
    "#number of unique ingredients\n",
    "len(food_items)"
   ]
  },
  {
   "cell_type": "code",
   "execution_count": 5,
   "metadata": {
    "collapsed": true
   },
   "outputs": [],
   "source": [
    "#http://stackoverflow.com/questions/4154961/find-substring-in-string-but-only-if-whole-words\n",
    "import re\n",
    "\n",
    "def string_found(string1, string2):\n",
    "    if re.search(r\"\\b\" + re.escape(string1) + r\"\\b\", string2):\n",
    "        return True\n",
    "    return False"
   ]
  },
  {
   "cell_type": "code",
   "execution_count": 6,
   "metadata": {
    "collapsed": false
   },
   "outputs": [],
   "source": [
    "#function to clean the ingredients\n",
    "\n",
    "def cleanIngredients(df, threadNum ,message = 'Complete!'):\n",
    "    print str(threadNum) + ' starting now!'\n",
    "    measurements = ['cup','cups','c','teaspoon','teaspoons','tsp','tablespoon','tablespoons','tbsp','pint','pints','bunch','bunches','dash','dashes','box','boxes','drizzle','loaf','loaves','dollop','clove','cloves','handful','handfuls','pinch','pinches','package','packages','stick','sticks','pound','pounds','g','mg','l','kg','ml','whole','can','cans','half','gallon','gallons','quart','quarts','qt','ounce','ounces','oz']\n",
    "    cleaned_data = []\n",
    "    complete_entries = 0 \n",
    "    \n",
    "    for index, row in df.iterrows():\n",
    "        ingredients = []\n",
    "        cleaned_ingr_test = []\n",
    "        cleaned_ingredients = []\n",
    "        ingr = row['ingredients']\n",
    "        ingredients = ingr.split(\"\\n\")\n",
    "\n",
    "        for recipe in ingredients:\n",
    "            ingr_list = re.split('\\W+\\d+',recipe)\n",
    "            for item in ingr_list:\n",
    "                if item.isnumeric():\n",
    "                    ind = ingr_list.index(item)\n",
    "                    del ingr_list[ind]\n",
    "            cleaned_ingr_test.append(\" \".join(ingr_list)) \n",
    "            \n",
    "        test_2 = []\n",
    "        for ingredient in cleaned_ingr_test:\n",
    "            ingr_list = ingredient.split()\n",
    "            for m in measurements:\n",
    "                if m in ingr_list:\n",
    "                    del ingr_list[ingr_list.index(m)]\n",
    "            test_2.append(\" \".join(ingr_list))\n",
    "\n",
    "        test_3 = []\n",
    "        for ingredient in test_2:\n",
    "            ingr_list = ingredient.split()\n",
    "            for item in ingr_list:\n",
    "                if item.isnumeric():\n",
    "                    ind = ingr_list.index(item)\n",
    "                    del ingr_list[ind]\n",
    "            test_3.append(\" \".join(ingr_list))\n",
    "        \n",
    "        for string in test_3:\n",
    "            found = False\n",
    "            matched_food = ''\n",
    "            for food in food_items:\n",
    "                if string_found(food.lower(),string.lower()):\n",
    "                    found = True\n",
    "                    if len(food) > len(matched_food):\n",
    "                        matched_food = food.lower()\n",
    "            if found:\n",
    "                cleaned_ingredients.append(matched_food)\n",
    "            else:    \n",
    "                cleaned_ingredients.append(string.lower())\n",
    "\n",
    "        cleaned_data.append('\\n'.join(cleaned_ingredients))\n",
    "        if index % 500 == 0:\n",
    "            print 'Process ' + str(threadNum) + ' update: ' + str(complete_entries) \n",
    "        complete_entries = complete_entries + 1\n",
    "    print 'Process ' + str(threadNum) + ' ' + str(message)\n",
    "    return cleaned_data\n",
    "\n"
   ]
  },
  {
   "cell_type": "code",
   "execution_count": null,
   "metadata": {
    "collapsed": false
   },
   "outputs": [],
   "source": []
  },
  {
   "cell_type": "code",
   "execution_count": null,
   "metadata": {
    "collapsed": false
   },
   "outputs": [
    {
     "name": "stdout",
     "output_type": "stream",
     "text": [
      "0 starting now!\n",
      "1 starting now!\n",
      "2 starting now!\n",
      "3 starting now!\n",
      "4 starting now!\n",
      "Process 0 update: 0\n",
      "Process 4 Complete!\n"
     ]
    }
   ],
   "source": [
    "import multiprocessing as mp\n",
    "pool = mp.Pool(5)\n",
    "f = pool.apply_async(cleanIngredients, args = (cleaned_recipes[0:43319], 0,))\n",
    "d = pool.apply_async(cleanIngredients, args = (cleaned_recipes[43320:86638], 1,))\n",
    "s = pool.apply_async(cleanIngredients, args = (cleaned_recipes[86639:129957], 2,))\n",
    "a = pool.apply_async(cleanIngredients, args = (cleaned_recipes[129958:173276], 3,))\n",
    "b = pool.apply_async(cleanIngredients, args = (cleaned_recipes[173276:], 4,))\n",
    "one = f.get()\n",
    "two = d.get()\n",
    "three = s.get()\n",
    "four = a.get()\n",
    "five = b.get()"
   ]
  },
  {
   "cell_type": "code",
   "execution_count": 8,
   "metadata": {
    "collapsed": false
   },
   "outputs": [
    {
     "name": "stdout",
     "output_type": "stream",
     "text": [
      "173277\n",
      "216595\n"
     ]
    }
   ],
   "source": [
    "import multiprocessing as mp\n",
    "\n",
    "start = 0\n",
    "end = 43319\n",
    "num_processes = 4\n",
    "myProcesses = []\n",
    "pool = mp.Pool(5)\n",
    "\n",
    "while num_processes > 0:\n",
    "    f = pool.apply_async(cleanIngredients, args = (cleaned_recipes[start:end], 4 - num_processes,) )\n",
    "    myProcesses.append(f)\n",
    "    start = end + 1\n",
    "    end = end + 43319\n",
    "    num_processes = num_processes - 1\n",
    "    \n",
    "f = pool.apply_async(cleanIngredients, args = (cleaned_recipes[start:], 4,) )\n",
    "myProcesses.append(f)\n",
    "\n",
    "print start\n",
    "print end\n"
   ]
  },
  {
   "cell_type": "code",
   "execution_count": 9,
   "metadata": {
    "collapsed": false
   },
   "outputs": [
    {
     "data": {
      "text/plain": [
       "5"
      ]
     },
     "execution_count": 9,
     "metadata": {},
     "output_type": "execute_result"
    }
   ],
   "source": [
    "len(myProcesses)"
   ]
  },
  {
   "cell_type": "code",
   "execution_count": null,
   "metadata": {
    "collapsed": false
   },
   "outputs": [],
   "source": [
    "cleaned_peices = [] * 5\n",
    "cleaned_peices[0] = myProcesses[0].get()\n",
    "cleaned_peices[1] = myProcesses[1].get()\n",
    "cleaned_peices[2] = myProcesses[2].get()\n",
    "cleaned_peices[3] = myProcesses[3].get()\n",
    "cleaned_peices[4] = myProcesses[4].get()"
   ]
  },
  {
   "cell_type": "code",
   "execution_count": null,
   "metadata": {
    "collapsed": false
   },
   "outputs": [],
   "source": []
  },
  {
   "cell_type": "code",
   "execution_count": null,
   "metadata": {
    "collapsed": false
   },
   "outputs": [],
   "source": []
  },
  {
   "cell_type": "code",
   "execution_count": null,
   "metadata": {
    "collapsed": false
   },
   "outputs": [],
   "source": []
  },
  {
   "cell_type": "code",
   "execution_count": null,
   "metadata": {
    "collapsed": false
   },
   "outputs": [],
   "source": []
  },
  {
   "cell_type": "code",
   "execution_count": null,
   "metadata": {
    "collapsed": false
   },
   "outputs": [],
   "source": []
  },
  {
   "cell_type": "code",
   "execution_count": null,
   "metadata": {
    "collapsed": true
   },
   "outputs": [],
   "source": []
  },
  {
   "cell_type": "code",
   "execution_count": null,
   "metadata": {
    "collapsed": false
   },
   "outputs": [],
   "source": []
  },
  {
   "cell_type": "code",
   "execution_count": null,
   "metadata": {
    "collapsed": true
   },
   "outputs": [],
   "source": []
  },
  {
   "cell_type": "code",
   "execution_count": null,
   "metadata": {
    "collapsed": true
   },
   "outputs": [],
   "source": []
  },
  {
   "cell_type": "code",
   "execution_count": null,
   "metadata": {
    "collapsed": false
   },
   "outputs": [],
   "source": [
    "\n"
   ]
  },
  {
   "cell_type": "code",
   "execution_count": null,
   "metadata": {
    "collapsed": true
   },
   "outputs": [],
   "source": []
  }
 ],
 "metadata": {
  "anaconda-cloud": {},
  "kernelspec": {
   "display_name": "Python [Root]",
   "language": "python",
   "name": "Python [Root]"
  },
  "language_info": {
   "codemirror_mode": {
    "name": "ipython",
    "version": 2
   },
   "file_extension": ".py",
   "mimetype": "text/x-python",
   "name": "python",
   "nbconvert_exporter": "python",
   "pygments_lexer": "ipython2",
   "version": "2.7.12"
  }
 },
 "nbformat": 4,
 "nbformat_minor": 0
}
