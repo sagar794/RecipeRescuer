{
 "cells": [
  {
   "cell_type": "code",
   "execution_count": 2,
   "metadata": {
    "collapsed": false
   },
   "outputs": [
    {
     "data": {
      "text/html": [
       "<div>\n",
       "<table border=\"1\" class=\"dataframe\">\n",
       "  <thead>\n",
       "    <tr style=\"text-align: right;\">\n",
       "      <th></th>\n",
       "      <th>_id</th>\n",
       "      <th>cookTime</th>\n",
       "      <th>creator</th>\n",
       "      <th>dateModified</th>\n",
       "      <th>datePublished</th>\n",
       "      <th>description</th>\n",
       "      <th>image</th>\n",
       "      <th>ingredients</th>\n",
       "      <th>name</th>\n",
       "      <th>prepTime</th>\n",
       "      <th>recipeCategory</th>\n",
       "      <th>recipeInstructions</th>\n",
       "      <th>recipeYield</th>\n",
       "      <th>source</th>\n",
       "      <th>totalTime</th>\n",
       "      <th>ts</th>\n",
       "      <th>url</th>\n",
       "    </tr>\n",
       "  </thead>\n",
       "  <tbody>\n",
       "    <tr>\n",
       "      <th>0</th>\n",
       "      <td>{u'$oid': u'5160756b96cc62079cc2db15'}</td>\n",
       "      <td>PT30M</td>\n",
       "      <td>NaN</td>\n",
       "      <td>NaN</td>\n",
       "      <td>2013-03-11</td>\n",
       "      <td>Late Saturday afternoon, after Marlboro Man ha...</td>\n",
       "      <td>http://static.thepioneerwoman.com/cooking/file...</td>\n",
       "      <td>Biscuits\\n3 cups All-purpose Flour\\n2 Tablespo...</td>\n",
       "      <td>Drop Biscuits and Sausage Gravy</td>\n",
       "      <td>PT10M</td>\n",
       "      <td>NaN</td>\n",
       "      <td>NaN</td>\n",
       "      <td>12</td>\n",
       "      <td>thepioneerwoman</td>\n",
       "      <td>NaN</td>\n",
       "      <td>{u'$date': 1365276011104}</td>\n",
       "      <td>http://thepioneerwoman.com/cooking/2013/03/dro...</td>\n",
       "    </tr>\n",
       "    <tr>\n",
       "      <th>1</th>\n",
       "      <td>{u'$oid': u'5160756d96cc62079cc2db16'}</td>\n",
       "      <td>PT20M</td>\n",
       "      <td>NaN</td>\n",
       "      <td>NaN</td>\n",
       "      <td>2013-03-13</td>\n",
       "      <td>When I was growing up, I participated in my Ep...</td>\n",
       "      <td>http://static.thepioneerwoman.com/cooking/file...</td>\n",
       "      <td>12 whole Dinner Rolls Or Small Sandwich Buns (...</td>\n",
       "      <td>Hot Roast Beef Sandwiches</td>\n",
       "      <td>PT20M</td>\n",
       "      <td>NaN</td>\n",
       "      <td>NaN</td>\n",
       "      <td>12</td>\n",
       "      <td>thepioneerwoman</td>\n",
       "      <td>NaN</td>\n",
       "      <td>{u'$date': 1365276013902}</td>\n",
       "      <td>http://thepioneerwoman.com/cooking/2013/03/hot...</td>\n",
       "    </tr>\n",
       "    <tr>\n",
       "      <th>2</th>\n",
       "      <td>{u'$oid': u'5160756f96cc6207a37ff777'}</td>\n",
       "      <td>NaN</td>\n",
       "      <td>NaN</td>\n",
       "      <td>NaN</td>\n",
       "      <td>2013-01-07</td>\n",
       "      <td>A beauty of a carrot salad - tricked out with ...</td>\n",
       "      <td>http://www.101cookbooks.com/mt-static/images/f...</td>\n",
       "      <td>Dressing:\\n1 tablespoon cumin seeds\\n1/3 cup /...</td>\n",
       "      <td>Morrocan Carrot and Chickpea Salad</td>\n",
       "      <td>PT15M</td>\n",
       "      <td>NaN</td>\n",
       "      <td>NaN</td>\n",
       "      <td>NaN</td>\n",
       "      <td>101cookbooks</td>\n",
       "      <td>NaN</td>\n",
       "      <td>{u'$date': 1365276015332}</td>\n",
       "      <td>http://www.101cookbooks.com/archives/moroccan-...</td>\n",
       "    </tr>\n",
       "    <tr>\n",
       "      <th>3</th>\n",
       "      <td>{u'$oid': u'5160757096cc62079cc2db17'}</td>\n",
       "      <td>PT15M</td>\n",
       "      <td>NaN</td>\n",
       "      <td>NaN</td>\n",
       "      <td>2013-03-18</td>\n",
       "      <td>It's Monday! It's a brand new week! The birds ...</td>\n",
       "      <td>http://static.thepioneerwoman.com/cooking/file...</td>\n",
       "      <td>Biscuits\\n3 cups All-purpose Flour\\n2 Tablespo...</td>\n",
       "      <td>Mixed Berry Shortcake</td>\n",
       "      <td>PT15M</td>\n",
       "      <td>NaN</td>\n",
       "      <td>NaN</td>\n",
       "      <td>8</td>\n",
       "      <td>thepioneerwoman</td>\n",
       "      <td>NaN</td>\n",
       "      <td>{u'$date': 1365276016700}</td>\n",
       "      <td>http://thepioneerwoman.com/cooking/2013/03/mix...</td>\n",
       "    </tr>\n",
       "    <tr>\n",
       "      <th>4</th>\n",
       "      <td>{u'$oid': u'5160757496cc6207a37ff778'}</td>\n",
       "      <td>NaN</td>\n",
       "      <td>NaN</td>\n",
       "      <td>NaN</td>\n",
       "      <td>2013-01-20</td>\n",
       "      <td>A simple breakfast bowl made with Greek yogurt...</td>\n",
       "      <td>http://www.101cookbooks.com/mt-static/images/f...</td>\n",
       "      <td>For each bowl: \\na big dollop of Greek yogurt\\...</td>\n",
       "      <td>Pomegranate Yogurt Bowl</td>\n",
       "      <td>PT5M</td>\n",
       "      <td>NaN</td>\n",
       "      <td>NaN</td>\n",
       "      <td>Serves 1.</td>\n",
       "      <td>101cookbooks</td>\n",
       "      <td>NaN</td>\n",
       "      <td>{u'$date': 1365276020318}</td>\n",
       "      <td>http://www.101cookbooks.com/archives/pomegrana...</td>\n",
       "    </tr>\n",
       "  </tbody>\n",
       "</table>\n",
       "</div>"
      ],
      "text/plain": [
       "                                      _id cookTime creator dateModified  \\\n",
       "0  {u'$oid': u'5160756b96cc62079cc2db15'}    PT30M     NaN          NaN   \n",
       "1  {u'$oid': u'5160756d96cc62079cc2db16'}    PT20M     NaN          NaN   \n",
       "2  {u'$oid': u'5160756f96cc6207a37ff777'}      NaN     NaN          NaN   \n",
       "3  {u'$oid': u'5160757096cc62079cc2db17'}    PT15M     NaN          NaN   \n",
       "4  {u'$oid': u'5160757496cc6207a37ff778'}      NaN     NaN          NaN   \n",
       "\n",
       "  datePublished                                        description  \\\n",
       "0    2013-03-11  Late Saturday afternoon, after Marlboro Man ha...   \n",
       "1    2013-03-13  When I was growing up, I participated in my Ep...   \n",
       "2    2013-01-07  A beauty of a carrot salad - tricked out with ...   \n",
       "3    2013-03-18  It's Monday! It's a brand new week! The birds ...   \n",
       "4    2013-01-20  A simple breakfast bowl made with Greek yogurt...   \n",
       "\n",
       "                                               image  \\\n",
       "0  http://static.thepioneerwoman.com/cooking/file...   \n",
       "1  http://static.thepioneerwoman.com/cooking/file...   \n",
       "2  http://www.101cookbooks.com/mt-static/images/f...   \n",
       "3  http://static.thepioneerwoman.com/cooking/file...   \n",
       "4  http://www.101cookbooks.com/mt-static/images/f...   \n",
       "\n",
       "                                         ingredients  \\\n",
       "0  Biscuits\\n3 cups All-purpose Flour\\n2 Tablespo...   \n",
       "1  12 whole Dinner Rolls Or Small Sandwich Buns (...   \n",
       "2  Dressing:\\n1 tablespoon cumin seeds\\n1/3 cup /...   \n",
       "3  Biscuits\\n3 cups All-purpose Flour\\n2 Tablespo...   \n",
       "4  For each bowl: \\na big dollop of Greek yogurt\\...   \n",
       "\n",
       "                                 name prepTime recipeCategory  \\\n",
       "0     Drop Biscuits and Sausage Gravy    PT10M            NaN   \n",
       "1           Hot Roast Beef Sandwiches    PT20M            NaN   \n",
       "2  Morrocan Carrot and Chickpea Salad    PT15M            NaN   \n",
       "3               Mixed Berry Shortcake    PT15M            NaN   \n",
       "4             Pomegranate Yogurt Bowl     PT5M            NaN   \n",
       "\n",
       "  recipeInstructions recipeYield           source totalTime  \\\n",
       "0                NaN          12  thepioneerwoman       NaN   \n",
       "1                NaN          12  thepioneerwoman       NaN   \n",
       "2                NaN         NaN     101cookbooks       NaN   \n",
       "3                NaN           8  thepioneerwoman       NaN   \n",
       "4                NaN   Serves 1.     101cookbooks       NaN   \n",
       "\n",
       "                          ts  \\\n",
       "0  {u'$date': 1365276011104}   \n",
       "1  {u'$date': 1365276013902}   \n",
       "2  {u'$date': 1365276015332}   \n",
       "3  {u'$date': 1365276016700}   \n",
       "4  {u'$date': 1365276020318}   \n",
       "\n",
       "                                                 url  \n",
       "0  http://thepioneerwoman.com/cooking/2013/03/dro...  \n",
       "1  http://thepioneerwoman.com/cooking/2013/03/hot...  \n",
       "2  http://www.101cookbooks.com/archives/moroccan-...  \n",
       "3  http://thepioneerwoman.com/cooking/2013/03/mix...  \n",
       "4  http://www.101cookbooks.com/archives/pomegrana...  "
      ]
     },
     "execution_count": 2,
     "metadata": {},
     "output_type": "execute_result"
    }
   ],
   "source": [
    "import pandas as pd\n",
    "\n",
    "filepath = \"./recipeitems-latest.json\"\n",
    "\n",
    "with open(filepath, 'rb') as f:\n",
    "    data = f.readlines()\n",
    "    \n",
    "#remove trailing \"\\n\" from lines\n",
    "data = map(lambda x :x.rstrip(), data)\n",
    "#put in good format:\n",
    "data_json_str = '[' +','.join(data)+ ']'\n",
    "\n",
    "#load into pandas\n",
    "recipe_df = pd.read_json(data_json_str)\n",
    "recipe_df.head()"
   ]
  },
  {
   "cell_type": "code",
   "execution_count": 3,
   "metadata": {
    "collapsed": false
   },
   "outputs": [
    {
     "data": {
      "text/plain": [
       "(173278, 17)"
      ]
     },
     "execution_count": 3,
     "metadata": {},
     "output_type": "execute_result"
    }
   ],
   "source": [
    "recipe_df.shape"
   ]
  },
  {
   "cell_type": "code",
   "execution_count": 4,
   "metadata": {
    "collapsed": false
   },
   "outputs": [
    {
     "data": {
      "text/html": [
       "<div>\n",
       "<table border=\"1\" class=\"dataframe\">\n",
       "  <thead>\n",
       "    <tr style=\"text-align: right;\">\n",
       "      <th></th>\n",
       "      <th>cookTime</th>\n",
       "      <th>ingredients</th>\n",
       "      <th>name</th>\n",
       "      <th>prepTime</th>\n",
       "      <th>url</th>\n",
       "    </tr>\n",
       "  </thead>\n",
       "  <tbody>\n",
       "    <tr>\n",
       "      <th>0</th>\n",
       "      <td>PT30M</td>\n",
       "      <td>Biscuits\\n3 cups All-purpose Flour\\n2 Tablespo...</td>\n",
       "      <td>Drop Biscuits and Sausage Gravy</td>\n",
       "      <td>PT10M</td>\n",
       "      <td>http://thepioneerwoman.com/cooking/2013/03/dro...</td>\n",
       "    </tr>\n",
       "    <tr>\n",
       "      <th>1</th>\n",
       "      <td>PT20M</td>\n",
       "      <td>12 whole Dinner Rolls Or Small Sandwich Buns (...</td>\n",
       "      <td>Hot Roast Beef Sandwiches</td>\n",
       "      <td>PT20M</td>\n",
       "      <td>http://thepioneerwoman.com/cooking/2013/03/hot...</td>\n",
       "    </tr>\n",
       "    <tr>\n",
       "      <th>2</th>\n",
       "      <td>NaN</td>\n",
       "      <td>Dressing:\\n1 tablespoon cumin seeds\\n1/3 cup /...</td>\n",
       "      <td>Morrocan Carrot and Chickpea Salad</td>\n",
       "      <td>PT15M</td>\n",
       "      <td>http://www.101cookbooks.com/archives/moroccan-...</td>\n",
       "    </tr>\n",
       "    <tr>\n",
       "      <th>3</th>\n",
       "      <td>PT15M</td>\n",
       "      <td>Biscuits\\n3 cups All-purpose Flour\\n2 Tablespo...</td>\n",
       "      <td>Mixed Berry Shortcake</td>\n",
       "      <td>PT15M</td>\n",
       "      <td>http://thepioneerwoman.com/cooking/2013/03/mix...</td>\n",
       "    </tr>\n",
       "    <tr>\n",
       "      <th>4</th>\n",
       "      <td>NaN</td>\n",
       "      <td>For each bowl: \\na big dollop of Greek yogurt\\...</td>\n",
       "      <td>Pomegranate Yogurt Bowl</td>\n",
       "      <td>PT5M</td>\n",
       "      <td>http://www.101cookbooks.com/archives/pomegrana...</td>\n",
       "    </tr>\n",
       "  </tbody>\n",
       "</table>\n",
       "</div>"
      ],
      "text/plain": [
       "  cookTime                                        ingredients  \\\n",
       "0    PT30M  Biscuits\\n3 cups All-purpose Flour\\n2 Tablespo...   \n",
       "1    PT20M  12 whole Dinner Rolls Or Small Sandwich Buns (...   \n",
       "2      NaN  Dressing:\\n1 tablespoon cumin seeds\\n1/3 cup /...   \n",
       "3    PT15M  Biscuits\\n3 cups All-purpose Flour\\n2 Tablespo...   \n",
       "4      NaN  For each bowl: \\na big dollop of Greek yogurt\\...   \n",
       "\n",
       "                                 name prepTime  \\\n",
       "0     Drop Biscuits and Sausage Gravy    PT10M   \n",
       "1           Hot Roast Beef Sandwiches    PT20M   \n",
       "2  Morrocan Carrot and Chickpea Salad    PT15M   \n",
       "3               Mixed Berry Shortcake    PT15M   \n",
       "4             Pomegranate Yogurt Bowl     PT5M   \n",
       "\n",
       "                                                 url  \n",
       "0  http://thepioneerwoman.com/cooking/2013/03/dro...  \n",
       "1  http://thepioneerwoman.com/cooking/2013/03/hot...  \n",
       "2  http://www.101cookbooks.com/archives/moroccan-...  \n",
       "3  http://thepioneerwoman.com/cooking/2013/03/mix...  \n",
       "4  http://www.101cookbooks.com/archives/pomegrana...  "
      ]
     },
     "execution_count": 4,
     "metadata": {},
     "output_type": "execute_result"
    }
   ],
   "source": [
    "#get rid of extra columns\n",
    "cleaned_recipes = recipe_df.copy()\n",
    "cols = [0,2,3,4,5,6,10,11,12,13,14,15]\n",
    "cleaned_recipes.drop(cleaned_recipes.columns[cols],axis=1,inplace=True)\n",
    "cleaned_recipes.drop(cleaned_recipes.index[50000:], inplace=True)\n",
    "cleaned_recipes.head()"
   ]
  },
  {
   "cell_type": "code",
   "execution_count": 5,
   "metadata": {
    "collapsed": false
   },
   "outputs": [],
   "source": [
    "ingredients = []\n",
    "for row in cleaned_recipes.iterrows():\n",
    "    ingr = row[1][1]\n",
    "    ingredient_arr = ingr.split(\"\\n\")\n",
    "    ingredients.append(ingredient_arr)"
   ]
  },
  {
   "cell_type": "code",
   "execution_count": 6,
   "metadata": {
    "collapsed": false
   },
   "outputs": [],
   "source": [
    "import re\n",
    "\n",
    "measurements = ['cup','cups','c','teaspoon','teaspoons','tsp','tablespoon','tablespoons','tbsp','pint','pints','bunch','bunches','dash','dashes','box','boxes','drizzle','loaf','loaves','dollop','clove','cloves','handful','handfuls','pinch','pinches','package','packages','stick','sticks','pound','pounds','g','mg','l','kg','ml','whole','can','cans','half','gallon','gallons','quart','quarts','qt','ounce','ounces','oz']\n",
    "\n",
    "sub_list = []\n",
    "cleaned_ingr_test = []\n",
    "\n",
    "ingredient_counts = []\n",
    "for index in range(len(ingredients)):\n",
    "    ingredient_counts.append(len(ingredients[index]))\n",
    "\n",
    "for entry in ingredients:\n",
    "    sub_list.append([x.lower() for x in entry])\n",
    "\n",
    "for recipe in sub_list:\n",
    "    for ingredient in recipe:\n",
    "        ingr_list = re.split('\\W+\\d+',ingredient)\n",
    "        for item in ingr_list:\n",
    "            if item.isnumeric():\n",
    "                ind = ingr_list.index(item)\n",
    "                del ingr_list[ind]\n",
    "        cleaned_ingr_test.append(\" \".join(ingr_list)) \n",
    "        \n",
    "\"\"\"test_2 = []\n",
    "for ingredient in cleaned_ingr_test:\n",
    "    ingr_list = ingredient.split()\n",
    "    for item in ingr_list:\n",
    "        try item.decode('ascii')\n",
    "        except UnicodeDecodeError:\n",
    "\"\"\"            \n",
    "\n",
    "test_3 = []\n",
    "for ingredient in cleaned_ingr_test:\n",
    "    ingr_list = ingredient.split()\n",
    "    for m in measurements:\n",
    "        if m in ingr_list:\n",
    "            del ingr_list[ingr_list.index(m)]\n",
    "    test_3.append(\" \".join(ingr_list))\n",
    "    \n",
    "test_4 = []\n",
    "for ingredient in test_3:\n",
    "    ingr_list = ingredient.split()\n",
    "    for item in ingr_list:\n",
    "        if item.isnumeric():\n",
    "            ind = ingr_list.index(item)\n",
    "            del ingr_list[ind]\n",
    "    test_4.append(\" \".join(ingr_list))\n"
   ]
  },
  {
   "cell_type": "code",
   "execution_count": 7,
   "metadata": {
    "collapsed": false
   },
   "outputs": [],
   "source": [
    "for recipe in test_4:\n",
    "    recipe = recipe.replace('(','').replace(')','').replace('-',' ').replace('<','').replace('>','').replace('{','').replace('}','').replace('*','')"
   ]
  },
  {
   "cell_type": "code",
   "execution_count": 8,
   "metadata": {
    "collapsed": false
   },
   "outputs": [
    {
     "name": "stdout",
     "output_type": "stream",
     "text": [
      "[u'biscuits', u'all-purpose flour', u'baking powder', u'salt', u'cup) cold butter, cut into pieces', u'butermilk', u'sausage gravy', u'breakfast sausage, hot or mild', u'all-purpose flour', u'milk', u'seasoned salt', u'black pepper, more to taste']\n"
     ]
    }
   ],
   "source": [
    "fixed_ingredients = []\n",
    "count = 0\n",
    "for recipe in range(len(ingredients)):\n",
    "    arr = []\n",
    "    for ingr in range(0,ingredient_counts[recipe]):\n",
    "        arr.append(test_4[count])\n",
    "        count = count+1\n",
    "    fixed_ingredients.append(arr)\n",
    "\n",
    "print fixed_ingredients[0]"
   ]
  },
  {
   "cell_type": "code",
   "execution_count": 31,
   "metadata": {
    "collapsed": false
   },
   "outputs": [
    {
     "data": {
      "text/html": [
       "<div>\n",
       "<table border=\"1\" class=\"dataframe\">\n",
       "  <thead>\n",
       "    <tr style=\"text-align: right;\">\n",
       "      <th></th>\n",
       "      <th>cookTime</th>\n",
       "      <th>ingredients</th>\n",
       "      <th>name</th>\n",
       "      <th>prepTime</th>\n",
       "      <th>url</th>\n",
       "      <th>cleaned_ingredients</th>\n",
       "    </tr>\n",
       "  </thead>\n",
       "  <tbody>\n",
       "    <tr>\n",
       "      <th>0</th>\n",
       "      <td>PT30M</td>\n",
       "      <td>Biscuits\\n3 cups All-purpose Flour\\n2 Tablespo...</td>\n",
       "      <td>Drop Biscuits and Sausage Gravy</td>\n",
       "      <td>PT10M</td>\n",
       "      <td>http://thepioneerwoman.com/cooking/2013/03/dro...</td>\n",
       "      <td>[biscuits, all-purpose flour, baking powder, s...</td>\n",
       "    </tr>\n",
       "    <tr>\n",
       "      <th>1</th>\n",
       "      <td>PT20M</td>\n",
       "      <td>12 whole Dinner Rolls Or Small Sandwich Buns (...</td>\n",
       "      <td>Hot Roast Beef Sandwiches</td>\n",
       "      <td>PT20M</td>\n",
       "      <td>http://thepioneerwoman.com/cooking/2013/03/hot...</td>\n",
       "      <td>[dinner rolls or small sandwich buns (i used w...</td>\n",
       "    </tr>\n",
       "    <tr>\n",
       "      <th>2</th>\n",
       "      <td>NaN</td>\n",
       "      <td>Dressing:\\n1 tablespoon cumin seeds\\n1/3 cup /...</td>\n",
       "      <td>Morrocan Carrot and Chickpea Salad</td>\n",
       "      <td>PT15M</td>\n",
       "      <td>http://www.101cookbooks.com/archives/moroccan-...</td>\n",
       "      <td>[dressing:, cumin seeds, extra virgin olive oi...</td>\n",
       "    </tr>\n",
       "    <tr>\n",
       "      <th>3</th>\n",
       "      <td>PT15M</td>\n",
       "      <td>Biscuits\\n3 cups All-purpose Flour\\n2 Tablespo...</td>\n",
       "      <td>Mixed Berry Shortcake</td>\n",
       "      <td>PT15M</td>\n",
       "      <td>http://thepioneerwoman.com/cooking/2013/03/mix...</td>\n",
       "      <td>[biscuits, all-purpose flour, baking powder, s...</td>\n",
       "    </tr>\n",
       "    <tr>\n",
       "      <th>4</th>\n",
       "      <td>NaN</td>\n",
       "      <td>For each bowl: \\na big dollop of Greek yogurt\\...</td>\n",
       "      <td>Pomegranate Yogurt Bowl</td>\n",
       "      <td>PT5M</td>\n",
       "      <td>http://www.101cookbooks.com/archives/pomegrana...</td>\n",
       "      <td>[for each bowl:, a big of greek yogurt, fresh ...</td>\n",
       "    </tr>\n",
       "  </tbody>\n",
       "</table>\n",
       "</div>"
      ],
      "text/plain": [
       "  cookTime                                        ingredients  \\\n",
       "0    PT30M  Biscuits\\n3 cups All-purpose Flour\\n2 Tablespo...   \n",
       "1    PT20M  12 whole Dinner Rolls Or Small Sandwich Buns (...   \n",
       "2      NaN  Dressing:\\n1 tablespoon cumin seeds\\n1/3 cup /...   \n",
       "3    PT15M  Biscuits\\n3 cups All-purpose Flour\\n2 Tablespo...   \n",
       "4      NaN  For each bowl: \\na big dollop of Greek yogurt\\...   \n",
       "\n",
       "                                 name prepTime  \\\n",
       "0     Drop Biscuits and Sausage Gravy    PT10M   \n",
       "1           Hot Roast Beef Sandwiches    PT20M   \n",
       "2  Morrocan Carrot and Chickpea Salad    PT15M   \n",
       "3               Mixed Berry Shortcake    PT15M   \n",
       "4             Pomegranate Yogurt Bowl     PT5M   \n",
       "\n",
       "                                                 url  \\\n",
       "0  http://thepioneerwoman.com/cooking/2013/03/dro...   \n",
       "1  http://thepioneerwoman.com/cooking/2013/03/hot...   \n",
       "2  http://www.101cookbooks.com/archives/moroccan-...   \n",
       "3  http://thepioneerwoman.com/cooking/2013/03/mix...   \n",
       "4  http://www.101cookbooks.com/archives/pomegrana...   \n",
       "\n",
       "                                 cleaned_ingredients  \n",
       "0  [biscuits, all-purpose flour, baking powder, s...  \n",
       "1  [dinner rolls or small sandwich buns (i used w...  \n",
       "2  [dressing:, cumin seeds, extra virgin olive oi...  \n",
       "3  [biscuits, all-purpose flour, baking powder, s...  \n",
       "4  [for each bowl:, a big of greek yogurt, fresh ...  "
      ]
     },
     "execution_count": 31,
     "metadata": {},
     "output_type": "execute_result"
    }
   ],
   "source": [
    "cleaned_recipes['cleaned_ingredients'] = fixed_ingredients\n",
    "cleaned_recipes.head()"
   ]
  },
  {
   "cell_type": "code",
   "execution_count": 9,
   "metadata": {
    "collapsed": false
   },
   "outputs": [],
   "source": [
    "\"\"\"for row in cleaned_recipes[0:10].iterrows():\n",
    "    print row\"\"\"\n",
    "cleaned_recipes.to_csv('round1cleaning.csv', encoding='utf-8')"
   ]
  },
  {
   "cell_type": "code",
   "execution_count": null,
   "metadata": {
    "collapsed": true
   },
   "outputs": [],
   "source": []
  },
  {
   "cell_type": "code",
   "execution_count": null,
   "metadata": {
    "collapsed": true
   },
   "outputs": [],
   "source": []
  },
  {
   "cell_type": "code",
   "execution_count": null,
   "metadata": {
    "collapsed": true
   },
   "outputs": [],
   "source": []
  },
  {
   "cell_type": "markdown",
   "metadata": {
    "collapsed": true
   },
   "source": [
    "# Sagar's Attempt (Using a list of foods to pull out the food items from the test_3 array)"
   ]
  },
  {
   "cell_type": "markdown",
   "metadata": {},
   "source": [
    "## WARNING: TAKES FREAKIN FOREVER TO RUN AND LOAD (may not be a good solution for all 50,000 entries we have to clean or maybe we can wait it out?)"
   ]
  },
  {
   "cell_type": "markdown",
   "metadata": {},
   "source": [
    "### RESULTS: So its not 100% perfect, again let me know what yall think. There are cases where the wrong ingredient gets chosen as the main ingredient "
   ]
  },
  {
   "cell_type": "code",
   "execution_count": 7,
   "metadata": {
    "collapsed": false
   },
   "outputs": [
    {
     "ename": "ImportError",
     "evalue": "No module named xlrd",
     "output_type": "error",
     "traceback": [
      "\u001b[0;31m---------------------------------------------------------------------------\u001b[0m",
      "\u001b[0;31mImportError\u001b[0m                               Traceback (most recent call last)",
      "\u001b[0;32m<ipython-input-11-a383955e331c>\u001b[0m in \u001b[0;36m<module>\u001b[0;34m()\u001b[0m\n\u001b[1;32m      9\u001b[0m \u001b[0;34m\u001b[0m\u001b[0m\n\u001b[1;32m     10\u001b[0m \u001b[0;31m#get food table\u001b[0m\u001b[0;34m\u001b[0m\u001b[0;34m\u001b[0m\u001b[0m\n\u001b[0;32m---> 11\u001b[0;31m \u001b[0mfoods_df\u001b[0m \u001b[0;34m=\u001b[0m \u001b[0mpd\u001b[0m\u001b[0;34m.\u001b[0m\u001b[0mread_excel\u001b[0m\u001b[0;34m(\u001b[0m\u001b[0;34m'./cofids.xls'\u001b[0m\u001b[0;34m)\u001b[0m\u001b[0;34m\u001b[0m\u001b[0m\n\u001b[0m\u001b[1;32m     12\u001b[0m \u001b[0mfoods_df\u001b[0m \u001b[0;34m=\u001b[0m \u001b[0mfoods_df\u001b[0m\u001b[0;34m.\u001b[0m\u001b[0mix\u001b[0m\u001b[0;34m[\u001b[0m\u001b[0;36m2\u001b[0m\u001b[0;34m:\u001b[0m\u001b[0;34m]\u001b[0m\u001b[0;34m\u001b[0m\u001b[0m\n\u001b[1;32m     13\u001b[0m \u001b[0;31m#foods_df.head()\u001b[0m\u001b[0;34m\u001b[0m\u001b[0;34m\u001b[0m\u001b[0m\n",
      "\u001b[0;32m//anaconda/envs/cs489/lib/python2.7/site-packages/pandas/io/excel.pyc\u001b[0m in \u001b[0;36mread_excel\u001b[0;34m(io, sheetname, header, skiprows, skip_footer, index_col, names, parse_cols, parse_dates, date_parser, na_values, thousands, convert_float, has_index_names, converters, engine, squeeze, **kwds)\u001b[0m\n\u001b[1;32m    168\u001b[0m     \"\"\"\n\u001b[1;32m    169\u001b[0m     \u001b[0;32mif\u001b[0m \u001b[0;32mnot\u001b[0m \u001b[0misinstance\u001b[0m\u001b[0;34m(\u001b[0m\u001b[0mio\u001b[0m\u001b[0;34m,\u001b[0m \u001b[0mExcelFile\u001b[0m\u001b[0;34m)\u001b[0m\u001b[0;34m:\u001b[0m\u001b[0;34m\u001b[0m\u001b[0m\n\u001b[0;32m--> 170\u001b[0;31m         \u001b[0mio\u001b[0m \u001b[0;34m=\u001b[0m \u001b[0mExcelFile\u001b[0m\u001b[0;34m(\u001b[0m\u001b[0mio\u001b[0m\u001b[0;34m,\u001b[0m \u001b[0mengine\u001b[0m\u001b[0;34m=\u001b[0m\u001b[0mengine\u001b[0m\u001b[0;34m)\u001b[0m\u001b[0;34m\u001b[0m\u001b[0m\n\u001b[0m\u001b[1;32m    171\u001b[0m \u001b[0;34m\u001b[0m\u001b[0m\n\u001b[1;32m    172\u001b[0m     return io._parse_excel(\n",
      "\u001b[0;32m//anaconda/envs/cs489/lib/python2.7/site-packages/pandas/io/excel.pyc\u001b[0m in \u001b[0;36m__init__\u001b[0;34m(self, io, **kwds)\u001b[0m\n\u001b[1;32m    196\u001b[0m     \u001b[0;32mdef\u001b[0m \u001b[0m__init__\u001b[0m\u001b[0;34m(\u001b[0m\u001b[0mself\u001b[0m\u001b[0;34m,\u001b[0m \u001b[0mio\u001b[0m\u001b[0;34m,\u001b[0m \u001b[0;34m**\u001b[0m\u001b[0mkwds\u001b[0m\u001b[0;34m)\u001b[0m\u001b[0;34m:\u001b[0m\u001b[0;34m\u001b[0m\u001b[0m\n\u001b[1;32m    197\u001b[0m \u001b[0;34m\u001b[0m\u001b[0m\n\u001b[0;32m--> 198\u001b[0;31m         \u001b[0;32mimport\u001b[0m \u001b[0mxlrd\u001b[0m  \u001b[0;31m# throw an ImportError if we need to\u001b[0m\u001b[0;34m\u001b[0m\u001b[0m\n\u001b[0m\u001b[1;32m    199\u001b[0m \u001b[0;34m\u001b[0m\u001b[0m\n\u001b[1;32m    200\u001b[0m         \u001b[0mver\u001b[0m \u001b[0;34m=\u001b[0m \u001b[0mtuple\u001b[0m\u001b[0;34m(\u001b[0m\u001b[0mmap\u001b[0m\u001b[0;34m(\u001b[0m\u001b[0mint\u001b[0m\u001b[0;34m,\u001b[0m \u001b[0mxlrd\u001b[0m\u001b[0;34m.\u001b[0m\u001b[0m__VERSION__\u001b[0m\u001b[0;34m.\u001b[0m\u001b[0msplit\u001b[0m\u001b[0;34m(\u001b[0m\u001b[0;34m\".\"\u001b[0m\u001b[0;34m)\u001b[0m\u001b[0;34m[\u001b[0m\u001b[0;34m:\u001b[0m\u001b[0;36m2\u001b[0m\u001b[0;34m]\u001b[0m\u001b[0;34m)\u001b[0m\u001b[0;34m)\u001b[0m\u001b[0;34m\u001b[0m\u001b[0m\n",
      "\u001b[0;31mImportError\u001b[0m: No module named xlrd"]
    }
   ],
   "source": [
    "#delete everything after \",\" , \":\", and \"*\" in test_3\n",
    "test_4 = []\n",
    "for recipe in test_3:\n",
    "    recipe = recipe.split(',', 1)[0]\n",
    "    recipe = recipe.split(':', 1)[0]\n",
    "    recipe = recipe.split('*', 1)[0]\n",
    "    test_4.append(recipe.lower())\n",
    "    #print recipe\n",
    "\n",
    "#get food table\n",
    "foods_df = pd.read_excel('./cofids.xls')\n",
    "foods_df = foods_df.ix[2:]\n",
    "#foods_df.head()\n",
    "\n",
    "#get food names from food table\n",
    "food_names = foods_df['Food Name']\n",
    "#food_names.head()\n",
    "\n",
    "#get food item from food names\n",
    "##should be noted that the food_items list is not completely clean\n",
    "food_items = []\n",
    "for row in food_names:\n",
    "    words = row.split(',')\n",
    "    if words[0].lower() not in food_items:\n",
    "        food_items.append(words[0].lower())\n",
    "print len(food_items)"
   ]
  },
  {
   "cell_type": "code",
   "execution_count": 7,
   "metadata": {
    "collapsed": false
   },
   "outputs": [],
   "source": [
    "#add more food items using ingredients.csv\n",
    "ingredients_df = pd.read_csv('./ingredients.csv')\n",
    "ingredients = ingredients_df[ingredients_df.columns[0]]\n",
    "\n",
    "more_food = []\n",
    "for food in ingredients:\n",
    "    more_food.append(food.lower().decode('utf-8'))\n",
    "\n",
    "for food in more_food:\n",
    "     if food not in food_items:\n",
    "        food_items.append(food)"
   ]
  },
  {
   "cell_type": "code",
   "execution_count": 8,
   "metadata": {
    "collapsed": true
   },
   "outputs": [],
   "source": [
    "#http://stackoverflow.com/questions/5319922/python-check-if-word-is-in-a-string\n",
    "def findWholeWord(w):\n",
    "    return re.compile(r'\\b({0})\\b'.format(w), flags=re.IGNORECASE).search \n",
    "\n",
    "def string_found(string1, string2):\n",
    "    if re.search(r\"\\b\" + re.escape(string1) + r\"\\b\", string2):\n",
    "        return True\n",
    "    return False"
   ]
  },
  {
   "cell_type": "code",
   "execution_count": 9,
   "metadata": {
    "collapsed": false
   },
   "outputs": [
    {
     "name": "stdout",
     "output_type": "stream",
     "text": [
      "975\n"
     ]
    }
   ],
   "source": [
    "#clean test_4 list using food_items list\n",
    "test_5 = []\n",
    "for string in test_4:\n",
    "    found = False\n",
    "    matched_food = ''\n",
    "    for food in food_items:\n",
    "        if string_found(food,string):\n",
    "            found = True\n",
    "            if len(food) > len(matched_food):\n",
    "                matched_food = food\n",
    "    if found:\n",
    "        test_5.append(matched_food)\n",
    "    else:    \n",
    "        test_5.append(string)\n",
    "print len(test_5)"
   ]
  },
  {
   "cell_type": "code",
   "execution_count": 12,
   "metadata": {
    "collapsed": false
   },
   "outputs": [],
   "source": [
    "#comparing test_4 and test_5 to see if the correct items were found\n",
    "compare_food_lists = pd.DataFrame()\n",
    "test_4_series = pd.Series(test_4)\n",
    "test_5_series = pd.Series(test_5)\n",
    "compare_food_lists['Before (test_4)'] = test_4_series.values\n",
    "compare_food_lists['After (test_5)'] = test_5_series.values\n",
    "\n",
    "compare_food_lists.to_csv('SagarsCleaningAttempt.csv', sep=',', encoding='utf-8')"
   ]
  },
  {
   "cell_type": "code",
   "execution_count": null,
   "metadata": {
    "collapsed": true
   },
   "outputs": [],
   "source": []
  },
  {
   "cell_type": "code",
   "execution_count": null,
   "metadata": {
    "collapsed": true
   },
   "outputs": [],
   "source": []
  },
  {
   "cell_type": "code",
   "execution_count": null,
   "metadata": {
    "collapsed": true
   },
   "outputs": [],
   "source": []
  }
 ],
 "metadata": {
  "anaconda-cloud": {},
  "kernelspec": {
   "display_name": "Python [conda env:cs489]",
   "language": "python",
   "name": "conda-env-cs489-py"
  },
  "language_info": {
   "codemirror_mode": {
    "name": "ipython",
    "version": 2
   },
   "file_extension": ".py",
   "mimetype": "text/x-python",
   "name": "python",
   "nbconvert_exporter": "python",
   "pygments_lexer": "ipython2",
   "version": "2.7.12"
  }
 },
 "nbformat": 4,
 "nbformat_minor": 1
}
